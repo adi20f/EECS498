{
  "nbformat": 4,
  "nbformat_minor": 0,
  "metadata": {
    "colab": {
      "name": "EECS498-FinalProject.ipynb",
      "provenance": [],
      "collapsed_sections": [],
      "authorship_tag": "ABX9TyNtrc3IePnP50n4GC1XHBdc",
      "include_colab_link": true
    },
    "kernelspec": {
      "name": "python3",
      "display_name": "Python 3"
    }
  },
  "cells": [
    {
      "cell_type": "markdown",
      "metadata": {
        "id": "view-in-github",
        "colab_type": "text"
      },
      "source": [
        "<a href=\"https://colab.research.google.com/github/adi20f/EECS498/blob/master/EECS498_FinalProject.ipynb\" target=\"_parent\"><img src=\"https://colab.research.google.com/assets/colab-badge.svg\" alt=\"Open In Colab\"/></a>"
      ]
    },
    {
      "cell_type": "markdown",
      "metadata": {
        "id": "Et2Yax5eFi3X",
        "colab_type": "text"
      },
      "source": [
        "#Environment Variables\n",
        "### set up variables to use when running the notebook\n"
      ]
    },
    {
      "cell_type": "code",
      "metadata": {
        "id": "-TXk1l9iFspO",
        "colab_type": "code",
        "colab": {}
      },
      "source": [
        "gdrive_dataset=\"/gdrive/My Drive/AffectiveComputingProject/GRID dataset\"\n",
        "local_dataset=\"\"\n",
        "gdrive = True"
      ],
      "execution_count": 0,
      "outputs": []
    },
    {
      "cell_type": "markdown",
      "metadata": {
        "id": "2lI7MmnvxCys",
        "colab_type": "text"
      },
      "source": [
        "# Mounting data\n",
        "\n",
        "### transferring data from shared-drive\n"
      ]
    },
    {
      "cell_type": "code",
      "metadata": {
        "id": "ZO8YyYrqnyB0",
        "colab_type": "code",
        "outputId": "2def8c03-c3be-478f-847c-34bfd06ac441",
        "colab": {
          "base_uri": "https://localhost:8080/",
          "height": 102
        }
      },
      "source": [
        "from google.colab import drive\n",
        "if gdrive:\n",
        "  drive.mount('/gdrive', force_remount=True)\n",
        "  %cd $gdrive_dataset\n",
        "  !pwd\n",
        "  # !ls\n",
        "else: \n",
        "  %cd $local_dataset"
      ],
      "execution_count": 4,
      "outputs": [
        {
          "output_type": "stream",
          "text": [
            "Mounted at /gdrive\n",
            "/content\n",
            "sample_data\n",
            "/gdrive/My Drive/AffectiveComputingProject/GRID dataset\n",
            "/gdrive/My Drive/AffectiveComputingProject/GRID dataset\n"
          ],
          "name": "stdout"
        }
      ]
    },
    {
      "cell_type": "code",
      "metadata": {
        "id": "PX6zzohKFiNu",
        "colab_type": "code",
        "colab": {}
      },
      "source": [
        ""
      ],
      "execution_count": 0,
      "outputs": []
    }
  ]
}